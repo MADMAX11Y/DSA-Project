{
 "cells": [
  {
   "cell_type": "markdown",
   "id": "f23b9643",
   "metadata": {},
   "source": [
    "<div style=\"text-align: center; border: 2px solid #333; padding: 20px; border-radius: 10px; background-color:rgb(5, 5, 5);\">\n",
    "    <h1 style=\"color:rgb(250, 252, 252);\">SORTING USING SELECTION,BUBEL,INSERTION</h1>\n",
    "    <h3 style=\"color:rgb(246, 250, 250);\">DATA SCINCE</h3>\n",
    "    <hr style=\"width: 50%;\">\n",
    "    <p style=\"font-size: 16px;\">\n",
    "        <strong>Submitted by:</strong> BISRAT ENGDA<br>\n",
    "        <strong>Student ID:</strong> 1601073<br>\n",
    "        <strong>Course:</strong> DATA STRUCTURE AND ALGORITHM<br>\n",
    "        <strong>Date:</strong> 13/08/2017<br>\n",
    "        <strong>Email</strong> @bisratengda613gmail.com<br>\n",
    "        <strong>Git hub </strong> https://github.com/MADMAX11Y<br>\n",
    "    </p>\n",
    "    "
   ]
  },
  {
   "cell_type": "code",
   "execution_count": null,
   "id": "1af6783b",
   "metadata": {},
   "outputs": [],
   "source": []
  }
 ],
 "metadata": {
  "kernelspec": {
   "display_name": ".venv",
   "language": "python",
   "name": "python3"
  },
  "language_info": {
   "name": "python",
   "version": "3.13.1"
  }
 },
 "nbformat": 4,
 "nbformat_minor": 5
}
